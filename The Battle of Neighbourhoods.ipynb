{
 "cells": [
  {
   "cell_type": "markdown",
   "metadata": {},
   "source": [
    "# Introduction"
   ]
  },
  {
   "cell_type": "markdown",
   "metadata": {},
   "source": [
    "#### In the City of Toronto, there are restaurants serving various cuisines. A new investor wants to find out the best possible locality to open an Italian restaurant. This project will help any investor to identify the right locality and establish an Italian restaurant"
   ]
  },
  {
   "cell_type": "markdown",
   "metadata": {},
   "source": [
    "# Objective/Business Problem"
   ]
  },
  {
   "cell_type": "markdown",
   "metadata": {},
   "source": [
    "#### The aim of this project is to segment areas/neighborhoods of Toronto based on the Postal codes and Bronx. \n",
    "#### Next step be to identify all restaurants captured from Foursquare, filter and plot all the Italian restaurants.\n",
    "#### The idea is to identify the top 5 neighborhoods and the best possible cluster and provide multiple choices to the possible investor to choose from."
   ]
  },
  {
   "cell_type": "markdown",
   "metadata": {},
   "source": [
    "# Data"
   ]
  },
  {
   "cell_type": "markdown",
   "metadata": {},
   "source": [
    "#### The following Data will be utilized to come up with the Analysis:\n",
    "#### 1. All Neighborhood details along with their postal code and Brox Ids by scraping from WikiPedia link mentioned below -\n",
    "https://en.wikipedia.org/wiki/List_of_postal_codes_of_Canada:_M\n",
    "#### 2. The cleaned up data will be stored in a Dataframe for further processing\n",
    "![alt text](img/DF1.PNG \"Logo Title Text 1\")\n",
    "#### 3. Geographical coordinates of each postal code: http://cocl.us/Geospatial_data\n",
    "![alt text](img/DF2.PNG \"Logo Title Text 1\")\n",
    "#### 4. Merged Neighborhood data with latitude and longitude utilizing the above Geographical coordinates\n",
    "![alt text](img/DF3.PNG \"Logo Title Text 1\")\n",
    "\n",
    "#### All the above mentioned data will be utilized to come up with a frequency analysis for Italian Cuisine in Toronto and to come up with the choices of neighborhood for the customer/investor. \n"
   ]
  },
  {
   "cell_type": "markdown",
   "metadata": {},
   "source": [
    "# Methodology"
   ]
  },
  {
   "cell_type": "markdown",
   "metadata": {},
   "source": [
    "## Assumptions"
   ]
  },
  {
   "cell_type": "markdown",
   "metadata": {},
   "source": [
    "#### &nbsp;&nbsp;&nbsp;&nbsp;&nbsp;&nbsp;&nbsp;a) The location with maximum number of Italian restaurant will have need for more Italian restaurant - so probable location will be arrived at based on higher frequency of  Italian restaurant in a neighborhood.\n",
    "#### &nbsp;&nbsp;&nbsp;&nbsp;&nbsp;&nbsp;&nbsp;b) From the list of Borough in Canada only Borough with words \"Toronto\" is selected as our area is restricted to Toronto only.\n",
    "#### &nbsp;&nbsp;&nbsp;&nbsp;&nbsp;&nbsp;&nbsp;c) K Means clustering mechanism is used to cluster the city of Toronto.\n",
    "#### &nbsp;&nbsp;&nbsp;&nbsp;&nbsp;&nbsp;&nbsp;d) Foursquare API is used to get details on all possible venues. User must have an account with Foursquare to execute the API."
   ]
  },
  {
   "cell_type": "markdown",
   "metadata": {},
   "source": [
    "## Methodology - Steps"
   ]
  },
  {
   "cell_type": "markdown",
   "metadata": {},
   "source": [
    "###  Step 1: Neighborhood Data Identification & Cleaning\n",
    "#### &nbsp;&nbsp;&nbsp;&nbsp;&nbsp;&nbsp;&nbsp;&nbsp;&nbsp;&nbsp;&nbsp;&nbsp;&nbsp;&nbsp;a) Search & Identify the Wiki page containing the list of Bronx and Neighborhoods w.r.t. Postal code data across Canada.\n",
    "#### &nbsp;&nbsp;&nbsp;&nbsp;&nbsp;&nbsp;&nbsp;&nbsp;&nbsp;&nbsp;&nbsp;&nbsp;&nbsp;&nbsp;b) Remove all the unavailable data to ensure no redundancy\n",
    "#### &nbsp;&nbsp;&nbsp;&nbsp;&nbsp;&nbsp;&nbsp;&nbsp;&nbsp;&nbsp;&nbsp;&nbsp;&nbsp;&nbsp;c) Merge all the Available neighborhoods pertaining to same Bronx\n",
    "#### &nbsp;&nbsp;&nbsp;&nbsp;&nbsp;&nbsp;&nbsp;&nbsp;&nbsp;&nbsp;&nbsp;&nbsp;&nbsp;&nbsp;d) Store the cleaned up data in a dataframe for further processing\n",
    "&nbsp;&nbsp;&nbsp;&nbsp;&nbsp;&nbsp;&nbsp;&nbsp;&nbsp;&nbsp;&nbsp;&nbsp;&nbsp;&nbsp;![alt text](img/DF1.PNG \"Logo Title Text 1\")"
   ]
  },
  {
   "cell_type": "markdown",
   "metadata": {},
   "source": [
    "###  Step 2: Obtain and Merge Location data\n",
    "#### &nbsp;&nbsp;&nbsp;&nbsp;&nbsp;&nbsp;&nbsp;&nbsp;&nbsp;&nbsp;&nbsp;&nbsp;&nbsp;&nbsp;a) Utilize the already downloaded Latitude and Longitude Data for all Postal codes in Canada and update the Location Data\n",
    "#### &nbsp;&nbsp;&nbsp;&nbsp;&nbsp;&nbsp;&nbsp;&nbsp;&nbsp;&nbsp;&nbsp;&nbsp;&nbsp;&nbsp;b) The final cleaned up dataframe is created with Postal code and Location details as seen below:\n",
    "&nbsp;&nbsp;&nbsp;&nbsp;&nbsp;&nbsp;&nbsp;&nbsp;&nbsp;&nbsp;&nbsp;&nbsp;&nbsp;&nbsp;![alt text](img/DF3.PNG \"Logo Title Text 1\")"
   ]
  },
  {
   "cell_type": "markdown",
   "metadata": {},
   "source": [
    "###  Step 3: Draw Map and show the Borough & Neighborhoods \n",
    "#### &nbsp;&nbsp;&nbsp;&nbsp;&nbsp;&nbsp;&nbsp;&nbsp;&nbsp;&nbsp;&nbsp;&nbsp;&nbsp;&nbsp;a) Create a map of Toronto with all neighborhoods superimposed on top \n",
    "#### &nbsp;&nbsp;&nbsp;&nbsp;&nbsp;&nbsp;&nbsp;&nbsp;&nbsp;&nbsp;&nbsp;&nbsp;&nbsp;&nbsp;b) Identify Boroughs that contain the word Toronto "
   ]
  },
  {
   "cell_type": "markdown",
   "metadata": {},
   "source": [
    "### Step 4: Explore the neighborhoods\n",
    "#### &nbsp;&nbsp;&nbsp;&nbsp;&nbsp;&nbsp;&nbsp;&nbsp;&nbsp;&nbsp;&nbsp;&nbsp;&nbsp;&nbsp;a) Explore all the neighborhoods in the city of Toronto, using the Latitude & Longitude Data\n",
    "#### &nbsp;&nbsp;&nbsp;&nbsp;&nbsp;&nbsp;&nbsp;&nbsp;&nbsp;&nbsp;&nbsp;&nbsp;&nbsp;&nbsp;b) Using Foresquare API, obtain a list of all the Venues available in Toronto\n",
    "#### &nbsp;&nbsp;&nbsp;&nbsp;&nbsp;&nbsp;&nbsp;&nbsp;&nbsp;&nbsp;&nbsp;&nbsp;&nbsp;&nbsp;c) Check how many venues and unique categories were returned for each neighborhood\n",
    "#### &nbsp;&nbsp;&nbsp;&nbsp;&nbsp;&nbsp;&nbsp;&nbsp;&nbsp;&nbsp;&nbsp;&nbsp;&nbsp;&nbsp;d) FIlter the Venues details for all possible 'Restaurants'\n",
    "#### &nbsp;&nbsp;&nbsp;&nbsp;&nbsp;&nbsp;&nbsp;&nbsp;&nbsp;&nbsp;&nbsp;&nbsp;&nbsp;&nbsp;e) Create a map between all the Neighborhoods and all possible types of restaurants\n",
    "#### &nbsp;&nbsp;&nbsp;&nbsp;&nbsp;&nbsp;&nbsp;&nbsp;&nbsp;&nbsp;&nbsp;&nbsp;&nbsp;&nbsp;f) Group the same map by neighborhood and by taking the mean of the frequency of occurrence of each category\n",
    "#### &nbsp;&nbsp;&nbsp;&nbsp;&nbsp;&nbsp;&nbsp;&nbsp;&nbsp;&nbsp;&nbsp;&nbsp;&nbsp;&nbsp;g) Display each neighborhood along with the top 5 most common venues\n",
    "#### &nbsp;&nbsp;&nbsp;&nbsp;&nbsp;&nbsp;&nbsp;&nbsp;&nbsp;&nbsp;&nbsp;&nbsp;&nbsp;&nbsp;h) Identify the top 10 venues for each neighborhood. This data will be further used for clustering\n"
   ]
  },
  {
   "cell_type": "markdown",
   "metadata": {},
   "source": [
    "### Step 5: Cluster Neighborhoods \n",
    "#### &nbsp;&nbsp;&nbsp;&nbsp;&nbsp;&nbsp;&nbsp;&nbsp;&nbsp;&nbsp;&nbsp;&nbsp;&nbsp;&nbsp;a) With an assumption of 5 clusters, use K-Cluster algorithm to come up with 5 different clusters in Toronto with similar set of Venues \n",
    "#### &nbsp;&nbsp;&nbsp;&nbsp;&nbsp;&nbsp;&nbsp;&nbsp;&nbsp;&nbsp;&nbsp;&nbsp;&nbsp;&nbsp;b) Map all the defined clusters in the City of Toronto.\n"
   ]
  },
  {
   "cell_type": "markdown",
   "metadata": {},
   "source": [
    "### Step 6: Examine clusters and predict\n",
    "#### &nbsp;&nbsp;&nbsp;&nbsp;&nbsp;&nbsp;&nbsp;&nbsp;&nbsp;&nbsp;&nbsp;&nbsp;&nbsp;&nbsp;a) Examine each cluster and determine the discriminating venue categories that distinguish each cluster. \n",
    "#### &nbsp;&nbsp;&nbsp;&nbsp;&nbsp;&nbsp;&nbsp;&nbsp;&nbsp;&nbsp;&nbsp;&nbsp;&nbsp;&nbsp;b) Identify the clusters & Boroughs/Neighborhoods with Maximum number of Italian restaurants "
   ]
  },
  {
   "cell_type": "markdown",
   "metadata": {},
   "source": [
    "# Results"
   ]
  },
  {
   "cell_type": "markdown",
   "metadata": {},
   "source": [
    "#### Results section is created based on Steps defined in the **Methodology** section above "
   ]
  },
  {
   "cell_type": "markdown",
   "metadata": {},
   "source": [
    "###  Step 1 & 2: Cleaned data with Borough, Neighborhoods & Location details \n",
    "#### There are 103 Boroughs as per the information available with us, out of them 4 belong to Toronto. The following data shows above information \n",
    "&nbsp;&nbsp;&nbsp;&nbsp;![alt text](img/DF4.PNG \"Logo Title Text 1\")"
   ]
  },
  {
   "cell_type": "markdown",
   "metadata": {},
   "source": [
    "###  Step 3: Draw Map and show the Borough & Neighborhoods \n",
    "#### The four Boroughs in Toronto along with the count of Neighborhood is as follows are \n",
    "##### *&nbsp;&nbsp;&nbsp;&nbsp;&nbsp;&nbsp;&nbsp;&nbsp;Downtown Toronto &nbsp;&nbsp;&nbsp;&nbsp;18*\n",
    "##### *&nbsp;&nbsp;&nbsp;&nbsp;&nbsp;&nbsp;&nbsp;&nbsp;Central Toronto &nbsp;&nbsp;&nbsp;&nbsp;9*\n",
    "##### *&nbsp;&nbsp;&nbsp;&nbsp;&nbsp;&nbsp;&nbsp;&nbsp;West Toronto &nbsp;&nbsp;&nbsp;&nbsp;6*\n",
    "##### *&nbsp;&nbsp;&nbsp;&nbsp;&nbsp;&nbsp;&nbsp;&nbsp;East Toronto &nbsp;&nbsp;&nbsp;&nbsp;5*\n",
    "\n",
    "#### And when mapped -- \n",
    "\n",
    "&nbsp;&nbsp;&nbsp;&nbsp;![alt text](img/DF5.PNG \"Logo Title Text 1\")"
   ]
  },
  {
   "cell_type": "markdown",
   "metadata": {},
   "source": [
    "### Step 4: Explore the neighborhoods\n",
    "#### &nbsp;&nbsp;&nbsp;&nbsp;&nbsp;&nbsp;&nbsp;&nbsp;&nbsp;&nbsp;&nbsp;&nbsp;&nbsp;&nbsp;a) Using Foursquare API, Total 1695 Venues have been identified in Toronto (all 4 boroughs, out of which there are 236 unique categories of the venues.\n",
    "#### &nbsp;&nbsp;&nbsp;&nbsp;&nbsp;&nbsp;&nbsp;&nbsp;&nbsp;&nbsp;&nbsp;&nbsp;&nbsp;&nbsp;b) Once the venues are filtered for all possible 'Restaurants', we found there are 50 different types of restaurants available.\n",
    "#### &nbsp;&nbsp;&nbsp;&nbsp;&nbsp;&nbsp;&nbsp;&nbsp;&nbsp;&nbsp;&nbsp;&nbsp;&nbsp;&nbsp;c) Based on the mean Frequency calculated the following each neighborhoods for a postal code along with the top 5 most common venues\n",
    "![alt text](img/DF6-1.PNG \"Logo Title Text 1\") ![alt text](img/DF6-2.PNG \"Logo Title Text 1\") ![alt text](img/DF6-3.PNG \"Logo Title Text 1\") ![alt text](img/DF6-4.PNG \"Logo Title Text 1\") ![alt text](img/DF6-5.PNG \"Logo Title Text 1\")\n",
    "\n",
    "#### &nbsp;&nbsp;&nbsp;&nbsp;&nbsp;&nbsp;&nbsp;&nbsp;&nbsp;&nbsp;&nbsp;&nbsp;&nbsp;&nbsp;d) The top 10 venues for each neighborhood looks like the following-\n",
    "![alt text](img/DF7.PNG \"Logo Title Text 1\")\n",
    "#### &nbsp;&nbsp;&nbsp;&nbsp;&nbsp;&nbsp;&nbsp;&nbsp;&nbsp;&nbsp;&nbsp;&nbsp;&nbsp;&nbsp;e) The following neighborhoods have at least 1 Italian Restaurant in the Top 10 venues - \n",
    "![alt text](img/DF12.PNG \"Logo Title Text 1\")"
   ]
  },
  {
   "cell_type": "markdown",
   "metadata": {},
   "source": [
    "### Step 5: Cluster Neighborhoods \n",
    "#### The clustering algorithm resulted the following 5 clusters using K-Cluster algorithm \n",
    "![alt text](img/DF8.PNG \"Logo Title Text 1\")\n",
    "\n",
    "#### And Once all the defined clusters are mapped on the City of Toronto it looks as follows:\n",
    "![alt text](img/DF9.PNG \"Logo Title Text 1\")"
   ]
  },
  {
   "cell_type": "markdown",
   "metadata": {},
   "source": [
    "### Step 6: Examine clusters and predict\n",
    "#### &nbsp;&nbsp;&nbsp;&nbsp;&nbsp;&nbsp;&nbsp;&nbsp;&nbsp;&nbsp;&nbsp;&nbsp;&nbsp;&nbsp;a) The clusters defined looks as follows:\n",
    "![alt text](img/DF10-1.PNG \"Logo Title Text 1\")\n",
    "&nbsp;&nbsp;&nbsp;![alt text](img/DF10-2.PNG \"Logo Title Text 1\")\n",
    "![alt text](img/DF10-3.PNG \"Logo Title Text 1\")\n",
    "\n",
    "#### &nbsp;&nbsp;&nbsp;&nbsp;&nbsp;&nbsp;&nbsp;&nbsp;&nbsp;&nbsp;&nbsp;&nbsp;&nbsp;&nbsp;b) Identify the clusters & Boroughs/Neighborhoods with Maximum number of Italian restaurants \n",
    "![alt text](img/DF11.PNG \"Logo Title Text 1\")"
   ]
  },
  {
   "cell_type": "markdown",
   "metadata": {},
   "source": [
    "# Discussion"
   ]
  },
  {
   "cell_type": "markdown",
   "metadata": {},
   "source": [
    "### Based on our initial assumption of the cluster with maximum number of Italian restaurants will have the best possibility to have a successful Italian restaurant due to the need in the area. Based on the same same looks like Cluster 1 will be the best possible cluster to setup an Italian Restaurant.\n",
    "### From this Data it is also clear that Downtown Toronto  would be the best Borough to setup an Italian restaurant.\n",
    "### While exploring the neighborhoods, Top 5 neighborhoods identified for setting up an Italian Restaurant are:\n",
    "#### &nbsp;&nbsp;&nbsp;&nbsp;&nbsp;&nbsp;&nbsp;&nbsp;&nbsp;&nbsp;&nbsp;&nbsp;&nbsp;&nbsp;a) Brockton, Exhibition Place, Parkdale Village\n",
    "#### &nbsp;&nbsp;&nbsp;&nbsp;&nbsp;&nbsp;&nbsp;&nbsp;&nbsp;&nbsp;&nbsp;&nbsp;&nbsp;&nbsp;b) Christie\n",
    "#### &nbsp;&nbsp;&nbsp;&nbsp;&nbsp;&nbsp;&nbsp;&nbsp;&nbsp;&nbsp;&nbsp;&nbsp;&nbsp;&nbsp;c) The Beaches West, India Bazaar\n",
    "#### &nbsp;&nbsp;&nbsp;&nbsp;&nbsp;&nbsp;&nbsp;&nbsp;&nbsp;&nbsp;&nbsp;&nbsp;&nbsp;&nbsp;d) Parkdale, Roncesvalles\n",
    "#### &nbsp;&nbsp;&nbsp;&nbsp;&nbsp;&nbsp;&nbsp;&nbsp;&nbsp;&nbsp;&nbsp;&nbsp;&nbsp;&nbsp;e) Runnymede, Swansea"
   ]
  },
  {
   "cell_type": "markdown",
   "metadata": {},
   "source": [
    "# Conclusion"
   ]
  },
  {
   "cell_type": "markdown",
   "metadata": {},
   "source": [
    "### Clustering as an algorithm gave a good split among the clusters and was able to identify uniqueness well. With the current data used, this looks like on of the best possible solution for the customer to setup an Italian restaurant in Cluster 1.\n",
    "### If he needs to choose a borough he can safely bet on Downtown Toronto and possibly one of the top five group of neighborhoods as explained in the Discussion section.\n",
    "### There might be a different assumption or calculation logic used to identify the right Borough/neighborhoods which might significantly change the result of this model. However in the current situation and based on the analysts domain understanding this should be a good input to go ahead. "
   ]
  }
 ],
 "metadata": {
  "kernelspec": {
   "display_name": "Python 3",
   "language": "python",
   "name": "python3"
  },
  "language_info": {
   "codemirror_mode": {
    "name": "ipython",
    "version": 3
   },
   "file_extension": ".py",
   "mimetype": "text/x-python",
   "name": "python",
   "nbconvert_exporter": "python",
   "pygments_lexer": "ipython3",
   "version": "3.6.8"
  }
 },
 "nbformat": 4,
 "nbformat_minor": 2
}
