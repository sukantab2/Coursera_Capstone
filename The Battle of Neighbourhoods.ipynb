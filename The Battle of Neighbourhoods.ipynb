{
 "cells": [
  {
   "cell_type": "markdown",
   "metadata": {},
   "source": [
    "# Introduction"
   ]
  },
  {
   "cell_type": "markdown",
   "metadata": {},
   "source": [
    "#### In the City of Toronto, there are restaurants serving various cuisines. A new investor wants to find out the best possible locality to open an Italian restaurant. This project will help any investor to identify the right locality and establish an Italian restaurant"
   ]
  },
  {
   "cell_type": "markdown",
   "metadata": {},
   "source": [
    "# Objective/Business Problem"
   ]
  },
  {
   "cell_type": "markdown",
   "metadata": {},
   "source": [
    "#### The aim of this project is to segment areas/neighborhoods of Toronto based on the Postal codes and Bronx. \n",
    "#### Next step be to identify all restaurants captured from Foursquare, filter and plot all the Italian restaurants.\n",
    "#### The idea is to identify the top 5 neighborhoods and the best possible cluster and provide multiple choices to the possible investor to choose from."
   ]
  },
  {
   "cell_type": "markdown",
   "metadata": {},
   "source": [
    "# Data"
   ]
  },
  {
   "cell_type": "markdown",
   "metadata": {},
   "source": [
    "#### The following Data will be utilized to come up with the Analysis:\n",
    "#### 1. All Neighborhood details along with their postal code and Brox Ids by scraping from WikiPedia link mentioned below -\n",
    "https://en.wikipedia.org/wiki/List_of_postal_codes_of_Canada:_M\n",
    "#### 2. The cleaned up data will be stored in a Dataframe for further processing\n",
    "![alt text](img/DF1.PNG \"Logo Title Text 1\")\n",
    "#### 3. Geographical coordinates of each postal code: http://cocl.us/Geospatial_data\n",
    "![alt text](img/DF2.PNG \"Logo Title Text 1\")\n",
    "#### 4. Merged Neighborhood data with latitude and longitude utilizing the above Geographical coordinates\n",
    "![alt text](img/DF3.PNG \"Logo Title Text 1\")\n",
    "\n",
    "#### All the above mentioned data will be utilized to come up with a frequency analysis for Italian Cuisine in Toronto and to come up with the choices of neighborhood for the customer/investor. \n"
   ]
  },
  {
   "cell_type": "code",
   "execution_count": null,
   "metadata": {},
   "outputs": [],
   "source": []
  }
 ],
 "metadata": {
  "kernelspec": {
   "display_name": "Python 3",
   "language": "python",
   "name": "python3"
  },
  "language_info": {
   "codemirror_mode": {
    "name": "ipython",
    "version": 3
   },
   "file_extension": ".py",
   "mimetype": "text/x-python",
   "name": "python",
   "nbconvert_exporter": "python",
   "pygments_lexer": "ipython3",
   "version": "3.6.8"
  }
 },
 "nbformat": 4,
 "nbformat_minor": 2
}
